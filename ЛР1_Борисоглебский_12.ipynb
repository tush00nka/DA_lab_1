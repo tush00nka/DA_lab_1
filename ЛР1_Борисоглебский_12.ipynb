{
  "cells": [
    {
      "cell_type": "markdown",
      "metadata": {
        "id": "bri_pAriNFqN"
      },
      "source": [
        "**Цель работы:**\n",
        "\n",
        "Осуществить предварительную обработку данных csv-файла, выявить и устранить проблемы в этих данных."
      ]
    },
    {
      "cell_type": "markdown",
      "metadata": {
        "id": "r_e-GeJmgZ8l"
      },
      "source": [
        "# Загрузка набора данных"
      ]
    },
    {
      "cell_type": "markdown",
      "metadata": {
        "id": "eeq9ZAbSguQS"
      },
      "source": [
        "### Описание предметной области"
      ]
    },
    {
      "cell_type": "markdown",
      "metadata": {
        "id": "XHbH8zNIg0Ib"
      },
      "source": [
        "Вариант №12\n",
        "\n",
        "Набор данных: movies.csv\n",
        "\n",
        "Атрибуты:\n",
        "1. название фильма\n",
        "2. год выхода фильма\n",
        "3. оценка\n",
        "4. количество голосов\n",
        "5. длительность фильма\n",
        "6. жанр\n",
        "7. производство"
      ]
    },
    {
      "cell_type": "markdown",
      "metadata": {
        "id": "Lwin9ia7hT1i"
      },
      "source": [
        "### 1.Чтение файла (набора данных)"
      ]
    },
    {
      "cell_type": "code",
      "execution_count": 110,
      "metadata": {
        "id": "a5dYQO5YhOYa"
      },
      "outputs": [],
      "source": [
        "import pandas as pd\n",
        "import numpy as np\n",
        "df = pd.read_csv('./movies.csv', sep=';')"
      ]
    },
    {
      "cell_type": "markdown",
      "metadata": {
        "id": "p82p53SvhjLN"
      },
      "source": [
        "### 2. Обзор данных"
      ]
    },
    {
      "cell_type": "markdown",
      "metadata": {
        "id": "eAYzXaLrh-qh"
      },
      "source": [
        "2.1 Вывод первых 20 строк с помощью метода head."
      ]
    },
    {
      "cell_type": "code",
      "execution_count": 111,
      "metadata": {
        "id": "7yMo3VZ_hotx"
      },
      "outputs": [
        {
          "data": {
            "text/html": [
              "<div>\n",
              "<style scoped>\n",
              "    .dataframe tbody tr th:only-of-type {\n",
              "        vertical-align: middle;\n",
              "    }\n",
              "\n",
              "    .dataframe tbody tr th {\n",
              "        vertical-align: top;\n",
              "    }\n",
              "\n",
              "    .dataframe thead th {\n",
              "        text-align: right;\n",
              "    }\n",
              "</style>\n",
              "<table border=\"1\" class=\"dataframe\">\n",
              "  <thead>\n",
              "    <tr style=\"text-align: right;\">\n",
              "      <th></th>\n",
              "      <th>title</th>\n",
              "      <th>release_year</th>\n",
              "      <th>score</th>\n",
              "      <th>number_of_votes</th>\n",
              "      <th>duration</th>\n",
              "      <th>main_genre</th>\n",
              "      <th>main_production</th>\n",
              "    </tr>\n",
              "  </thead>\n",
              "  <tbody>\n",
              "    <tr>\n",
              "      <th>0</th>\n",
              "      <td>David Attenborough: A Life on Our Planet</td>\n",
              "      <td>2020.0</td>\n",
              "      <td>9.0</td>\n",
              "      <td>31180.0</td>\n",
              "      <td>83</td>\n",
              "      <td>documentary</td>\n",
              "      <td>GB</td>\n",
              "    </tr>\n",
              "    <tr>\n",
              "      <th>1</th>\n",
              "      <td>Inception</td>\n",
              "      <td>2010.0</td>\n",
              "      <td>8.8</td>\n",
              "      <td>2268288.0</td>\n",
              "      <td>148</td>\n",
              "      <td>scifi</td>\n",
              "      <td>GB</td>\n",
              "    </tr>\n",
              "    <tr>\n",
              "      <th>2</th>\n",
              "      <td>Forrest Gump</td>\n",
              "      <td>1994.0</td>\n",
              "      <td>8.8</td>\n",
              "      <td>1994599.0</td>\n",
              "      <td>142</td>\n",
              "      <td>drama</td>\n",
              "      <td>US</td>\n",
              "    </tr>\n",
              "    <tr>\n",
              "      <th>3</th>\n",
              "      <td>Anbe Sivam</td>\n",
              "      <td>2003.0</td>\n",
              "      <td>8.7</td>\n",
              "      <td>20595.0</td>\n",
              "      <td>160</td>\n",
              "      <td>comedy</td>\n",
              "      <td>IN</td>\n",
              "    </tr>\n",
              "    <tr>\n",
              "      <th>4</th>\n",
              "      <td>Bo Burnham: Inside</td>\n",
              "      <td>2021.0</td>\n",
              "      <td>8.7</td>\n",
              "      <td>44074.0</td>\n",
              "      <td>87</td>\n",
              "      <td>comedy</td>\n",
              "      <td>US</td>\n",
              "    </tr>\n",
              "    <tr>\n",
              "      <th>5</th>\n",
              "      <td>Saving Private Ryan</td>\n",
              "      <td>1998.0</td>\n",
              "      <td>8.6</td>\n",
              "      <td>1346020.0</td>\n",
              "      <td>169</td>\n",
              "      <td>drama</td>\n",
              "      <td>US</td>\n",
              "    </tr>\n",
              "    <tr>\n",
              "      <th>6</th>\n",
              "      <td>Django Unchained</td>\n",
              "      <td>2012.0</td>\n",
              "      <td>8.4</td>\n",
              "      <td>1472668.0</td>\n",
              "      <td>165</td>\n",
              "      <td>western</td>\n",
              "      <td>US</td>\n",
              "    </tr>\n",
              "    <tr>\n",
              "      <th>7</th>\n",
              "      <td>Dangal</td>\n",
              "      <td>2016.0</td>\n",
              "      <td>8.4</td>\n",
              "      <td>180247.0</td>\n",
              "      <td>161</td>\n",
              "      <td>action</td>\n",
              "      <td>IN</td>\n",
              "    </tr>\n",
              "    <tr>\n",
              "      <th>8</th>\n",
              "      <td>Bo Burnham: Make Happy</td>\n",
              "      <td>2016.0</td>\n",
              "      <td>8.4</td>\n",
              "      <td>14356.0</td>\n",
              "      <td>60</td>\n",
              "      <td>comedy</td>\n",
              "      <td>US</td>\n",
              "    </tr>\n",
              "    <tr>\n",
              "      <th>9</th>\n",
              "      <td>Louis C.K.: Hilarious</td>\n",
              "      <td>2010.0</td>\n",
              "      <td>8.4</td>\n",
              "      <td>11973.0</td>\n",
              "      <td>84</td>\n",
              "      <td>comedy</td>\n",
              "      <td>US</td>\n",
              "    </tr>\n",
              "    <tr>\n",
              "      <th>10</th>\n",
              "      <td>Dave Chappelle: Sticks &amp; Stones</td>\n",
              "      <td>2019.0</td>\n",
              "      <td>8.4</td>\n",
              "      <td>25687.0</td>\n",
              "      <td>65</td>\n",
              "      <td>comedy</td>\n",
              "      <td>US</td>\n",
              "    </tr>\n",
              "    <tr>\n",
              "      <th>11</th>\n",
              "      <td>3 Idiots</td>\n",
              "      <td>2009.0</td>\n",
              "      <td>8.4</td>\n",
              "      <td>385782.0</td>\n",
              "      <td>170</td>\n",
              "      <td>comedy</td>\n",
              "      <td>IN</td>\n",
              "    </tr>\n",
              "    <tr>\n",
              "      <th>12</th>\n",
              "      <td>Black Friday</td>\n",
              "      <td>2004.0</td>\n",
              "      <td>8.4</td>\n",
              "      <td>20611.0</td>\n",
              "      <td>143</td>\n",
              "      <td>crime</td>\n",
              "      <td>IN</td>\n",
              "    </tr>\n",
              "    <tr>\n",
              "      <th>13</th>\n",
              "      <td>Super Deluxe</td>\n",
              "      <td>2019.0</td>\n",
              "      <td>8.4</td>\n",
              "      <td>13680.0</td>\n",
              "      <td>176</td>\n",
              "      <td>thriller</td>\n",
              "      <td>IN</td>\n",
              "    </tr>\n",
              "    <tr>\n",
              "      <th>14</th>\n",
              "      <td>Winter on Fire: Ukraine's Fight for Freedom</td>\n",
              "      <td>2015.0</td>\n",
              "      <td>8.3</td>\n",
              "      <td>17710.0</td>\n",
              "      <td>98</td>\n",
              "      <td>documentary</td>\n",
              "      <td>UA</td>\n",
              "    </tr>\n",
              "    <tr>\n",
              "      <th>15</th>\n",
              "      <td>Once Upon a Time in America</td>\n",
              "      <td>1984.0</td>\n",
              "      <td>8.3</td>\n",
              "      <td>342335.0</td>\n",
              "      <td>229</td>\n",
              "      <td>drama</td>\n",
              "      <td>US</td>\n",
              "    </tr>\n",
              "    <tr>\n",
              "      <th>16</th>\n",
              "      <td>Taxi Driver</td>\n",
              "      <td>1976.0</td>\n",
              "      <td>8.3</td>\n",
              "      <td>795222.0</td>\n",
              "      <td>113</td>\n",
              "      <td>crime</td>\n",
              "      <td>US</td>\n",
              "    </tr>\n",
              "    <tr>\n",
              "      <th>17</th>\n",
              "      <td>Like Stars on Earth</td>\n",
              "      <td>2007.0</td>\n",
              "      <td>8.3</td>\n",
              "      <td>188234.0</td>\n",
              "      <td>165</td>\n",
              "      <td>drama</td>\n",
              "      <td>IN</td>\n",
              "    </tr>\n",
              "    <tr>\n",
              "      <th>18</th>\n",
              "      <td>Bo Burnham: What.</td>\n",
              "      <td>2013.0</td>\n",
              "      <td>8.3</td>\n",
              "      <td>11488.0</td>\n",
              "      <td>60</td>\n",
              "      <td>comedy</td>\n",
              "      <td>US</td>\n",
              "    </tr>\n",
              "    <tr>\n",
              "      <th>19</th>\n",
              "      <td>Full Metal Jacket</td>\n",
              "      <td>1987.0</td>\n",
              "      <td>8.3</td>\n",
              "      <td>723306.0</td>\n",
              "      <td>116</td>\n",
              "      <td>drama</td>\n",
              "      <td>GB</td>\n",
              "    </tr>\n",
              "  </tbody>\n",
              "</table>\n",
              "</div>"
            ],
            "text/plain": [
              "                                          title  release_year  score  \\\n",
              "0      David Attenborough: A Life on Our Planet        2020.0    9.0   \n",
              "1                                     Inception        2010.0    8.8   \n",
              "2                                  Forrest Gump        1994.0    8.8   \n",
              "3                                    Anbe Sivam        2003.0    8.7   \n",
              "4                            Bo Burnham: Inside        2021.0    8.7   \n",
              "5                           Saving Private Ryan        1998.0    8.6   \n",
              "6                              Django Unchained        2012.0    8.4   \n",
              "7                                        Dangal        2016.0    8.4   \n",
              "8                        Bo Burnham: Make Happy        2016.0    8.4   \n",
              "9                         Louis C.K.: Hilarious        2010.0    8.4   \n",
              "10              Dave Chappelle: Sticks & Stones        2019.0    8.4   \n",
              "11                                     3 Idiots        2009.0    8.4   \n",
              "12                                 Black Friday        2004.0    8.4   \n",
              "13                                 Super Deluxe        2019.0    8.4   \n",
              "14  Winter on Fire: Ukraine's Fight for Freedom        2015.0    8.3   \n",
              "15                  Once Upon a Time in America        1984.0    8.3   \n",
              "16                                  Taxi Driver        1976.0    8.3   \n",
              "17                          Like Stars on Earth        2007.0    8.3   \n",
              "18                            Bo Burnham: What.        2013.0    8.3   \n",
              "19                            Full Metal Jacket        1987.0    8.3   \n",
              "\n",
              "    number_of_votes  duration   main_genre main_production  \n",
              "0           31180.0        83  documentary              GB  \n",
              "1         2268288.0       148        scifi              GB  \n",
              "2         1994599.0       142        drama              US  \n",
              "3           20595.0       160       comedy              IN  \n",
              "4           44074.0        87       comedy              US  \n",
              "5         1346020.0       169        drama              US  \n",
              "6         1472668.0       165      western              US  \n",
              "7          180247.0       161       action              IN  \n",
              "8           14356.0        60       comedy              US  \n",
              "9           11973.0        84       comedy              US  \n",
              "10          25687.0        65       comedy              US  \n",
              "11         385782.0       170       comedy              IN  \n",
              "12          20611.0       143        crime              IN  \n",
              "13          13680.0       176     thriller              IN  \n",
              "14          17710.0        98  documentary              UA  \n",
              "15         342335.0       229        drama              US  \n",
              "16         795222.0       113        crime              US  \n",
              "17         188234.0       165        drama              IN  \n",
              "18          11488.0        60       comedy              US  \n",
              "19         723306.0       116        drama              GB  "
            ]
          },
          "execution_count": 111,
          "metadata": {},
          "output_type": "execute_result"
        }
      ],
      "source": [
        "df.head(20)"
      ]
    },
    {
      "cell_type": "markdown",
      "metadata": {
        "id": "Ze-lXxLMhpWv"
      },
      "source": [
        "2.2 Оценка данных с помощью метода info."
      ]
    },
    {
      "cell_type": "code",
      "execution_count": 112,
      "metadata": {
        "id": "bjhngmaLiGM-"
      },
      "outputs": [
        {
          "name": "stdout",
          "output_type": "stream",
          "text": [
            "<class 'pandas.core.frame.DataFrame'>\n",
            "RangeIndex: 389 entries, 0 to 388\n",
            "Data columns (total 7 columns):\n",
            " #   Column           Non-Null Count  Dtype  \n",
            "---  ------           --------------  -----  \n",
            " 0   title            384 non-null    object \n",
            " 1   release_year     387 non-null    float64\n",
            " 2   score            386 non-null    float64\n",
            " 3   number_of_votes  388 non-null    float64\n",
            " 4   duration         389 non-null    int64  \n",
            " 5   main_genre       389 non-null    object \n",
            " 6   main_production  388 non-null    object \n",
            "dtypes: float64(3), int64(1), object(3)\n",
            "memory usage: 21.4+ KB\n"
          ]
        }
      ],
      "source": [
        "df.info()"
      ]
    },
    {
      "cell_type": "markdown",
      "metadata": {
        "id": "06PDq9DAiMAY"
      },
      "source": [
        "2.3 Оценка данных с помощью метода describe."
      ]
    },
    {
      "cell_type": "code",
      "execution_count": 113,
      "metadata": {
        "id": "cTVFwzO1jQfN"
      },
      "outputs": [
        {
          "data": {
            "text/html": [
              "<div>\n",
              "<style scoped>\n",
              "    .dataframe tbody tr th:only-of-type {\n",
              "        vertical-align: middle;\n",
              "    }\n",
              "\n",
              "    .dataframe tbody tr th {\n",
              "        vertical-align: top;\n",
              "    }\n",
              "\n",
              "    .dataframe thead th {\n",
              "        text-align: right;\n",
              "    }\n",
              "</style>\n",
              "<table border=\"1\" class=\"dataframe\">\n",
              "  <thead>\n",
              "    <tr style=\"text-align: right;\">\n",
              "      <th></th>\n",
              "      <th>release_year</th>\n",
              "      <th>score</th>\n",
              "      <th>number_of_votes</th>\n",
              "      <th>duration</th>\n",
              "    </tr>\n",
              "  </thead>\n",
              "  <tbody>\n",
              "    <tr>\n",
              "      <th>count</th>\n",
              "      <td>387.000000</td>\n",
              "      <td>386.000000</td>\n",
              "      <td>3.880000e+02</td>\n",
              "      <td>389.000000</td>\n",
              "    </tr>\n",
              "    <tr>\n",
              "      <th>mean</th>\n",
              "      <td>2010.976744</td>\n",
              "      <td>7.512176</td>\n",
              "      <td>1.391523e+05</td>\n",
              "      <td>123.352185</td>\n",
              "    </tr>\n",
              "    <tr>\n",
              "      <th>std</th>\n",
              "      <td>10.805726</td>\n",
              "      <td>0.443870</td>\n",
              "      <td>2.365279e+05</td>\n",
              "      <td>28.304800</td>\n",
              "    </tr>\n",
              "    <tr>\n",
              "      <th>min</th>\n",
              "      <td>1954.000000</td>\n",
              "      <td>6.900000</td>\n",
              "      <td>1.013900e+04</td>\n",
              "      <td>28.000000</td>\n",
              "    </tr>\n",
              "    <tr>\n",
              "      <th>25%</th>\n",
              "      <td>2007.500000</td>\n",
              "      <td>7.100000</td>\n",
              "      <td>2.055375e+04</td>\n",
              "      <td>104.000000</td>\n",
              "    </tr>\n",
              "    <tr>\n",
              "      <th>50%</th>\n",
              "      <td>2014.000000</td>\n",
              "      <td>7.400000</td>\n",
              "      <td>4.606950e+04</td>\n",
              "      <td>122.000000</td>\n",
              "    </tr>\n",
              "    <tr>\n",
              "      <th>75%</th>\n",
              "      <td>2018.000000</td>\n",
              "      <td>7.800000</td>\n",
              "      <td>1.551585e+05</td>\n",
              "      <td>139.000000</td>\n",
              "    </tr>\n",
              "    <tr>\n",
              "      <th>max</th>\n",
              "      <td>2022.000000</td>\n",
              "      <td>9.000000</td>\n",
              "      <td>2.268288e+06</td>\n",
              "      <td>229.000000</td>\n",
              "    </tr>\n",
              "  </tbody>\n",
              "</table>\n",
              "</div>"
            ],
            "text/plain": [
              "       release_year       score  number_of_votes    duration\n",
              "count    387.000000  386.000000     3.880000e+02  389.000000\n",
              "mean    2010.976744    7.512176     1.391523e+05  123.352185\n",
              "std       10.805726    0.443870     2.365279e+05   28.304800\n",
              "min     1954.000000    6.900000     1.013900e+04   28.000000\n",
              "25%     2007.500000    7.100000     2.055375e+04  104.000000\n",
              "50%     2014.000000    7.400000     4.606950e+04  122.000000\n",
              "75%     2018.000000    7.800000     1.551585e+05  139.000000\n",
              "max     2022.000000    9.000000     2.268288e+06  229.000000"
            ]
          },
          "execution_count": 113,
          "metadata": {},
          "output_type": "execute_result"
        }
      ],
      "source": [
        "df.describe(include=[np.number])"
      ]
    },
    {
      "cell_type": "markdown",
      "metadata": {},
      "source": [
        "`count` - число объектов\n",
        "\n",
        "`mean` - среднее арифметическое\n",
        "\n",
        "`std` - стандартное отклонение\n",
        "\n",
        "`min, max` - минимальное и максимальное знаения\n",
        "\n",
        "`25-75%` - квартили"
      ]
    },
    {
      "cell_type": "markdown",
      "metadata": {
        "id": "oOZUrZGuiGqc"
      },
      "source": [
        "\n",
        "---\n",
        "\n",
        "**Сделать выводы. Вы должны понимать, что означает тот или иной столбец, чтобы\n",
        " ответить на вопросы на защите.**\n",
        "\n",
        "\n",
        " ---\n"
      ]
    },
    {
      "cell_type": "markdown",
      "metadata": {
        "id": "JTbo0IGDiHxn"
      },
      "source": [
        " 2.4 Оценка названий столбцов"
      ]
    },
    {
      "cell_type": "code",
      "execution_count": 114,
      "metadata": {
        "id": "9NEyi2Odik3e"
      },
      "outputs": [
        {
          "data": {
            "text/plain": [
              "Index(['title', 'release_year', 'score', 'number_of_votes', 'duration',\n",
              "       'main_genre', 'country'],\n",
              "      dtype='object')"
            ]
          },
          "execution_count": 114,
          "metadata": {},
          "output_type": "execute_result"
        }
      ],
      "source": [
        "df = df.rename(columns={'main_production': 'country'})\n",
        "df.columns"
      ]
    },
    {
      "cell_type": "markdown",
      "metadata": {},
      "source": [
        "---\n",
        "\n",
        "**Столбец main_production был переименован в country для ясности.**\n",
        "\n",
        "---"
      ]
    },
    {
      "cell_type": "markdown",
      "metadata": {
        "id": "V0tLQcyrjnA_"
      },
      "source": [
        "### 3. Проверка пропусков"
      ]
    },
    {
      "cell_type": "code",
      "execution_count": 115,
      "metadata": {
        "id": "xuTz-Avjj9AW"
      },
      "outputs": [
        {
          "name": "stdout",
          "output_type": "stream",
          "text": [
            "     title  release_year  score  number_of_votes  duration main_genre country\n",
            "121    NaN        2017.0    7.8          25593.0        94     comedy      US\n",
            "141    NaN        2015.0    7.4          13703.0       101    musical      US\n",
            "174    NaN           NaN    NaN              NaN       121      drama     NaN\n",
            "187    NaN        2013.0    7.5          93314.0       128      drama      US\n",
            "214  Crazy           NaN    NaN         507878.0       118    romance      US\n",
            "226    NaN        1999.0    NaN         180532.0       127      drama      US\n"
          ]
        }
      ],
      "source": [
        "# Проверить данные на наличие пропусков и устранить их, если они есть (пропуски необходимо либо удалить, либо заменить каким-то значением).\n",
        "# print(df.isna().sum())\n",
        "\n",
        "cc = df.isna()\n",
        "rows_with_na = df[cc.any(axis=1)]  # строки, где есть хотя бы один NaN\n",
        "print(rows_with_na)"
      ]
    },
    {
      "cell_type": "code",
      "execution_count": 116,
      "metadata": {},
      "outputs": [],
      "source": [
        "df.dropna(axis=0, subset=['score'], inplace=True)"
      ]
    },
    {
      "cell_type": "markdown",
      "metadata": {
        "id": "efZ7vgSVkPQH"
      },
      "source": [
        "\n",
        "---\n",
        "\n",
        "**Вы должны аргументировать на защите, почему были выполнены те или иные действия с пропусками, а также знать другие способы работы с пропусками, чтобы\n",
        " ответить на вопросы на защите.**\n",
        "\n",
        "\n",
        " ---"
      ]
    },
    {
      "cell_type": "markdown",
      "metadata": {
        "id": "kkyrXXHikEXk"
      },
      "source": [
        "### 4. Проверка дубликатов"
      ]
    },
    {
      "cell_type": "markdown",
      "metadata": {
        "id": "ImqHvr3okIQ6"
      },
      "source": [
        "#### Проверка явных дубликатов"
      ]
    },
    {
      "cell_type": "code",
      "execution_count": 117,
      "metadata": {
        "id": "qu1oh-e5lDZ1"
      },
      "outputs": [
        {
          "data": {
            "text/html": [
              "<div>\n",
              "<style scoped>\n",
              "    .dataframe tbody tr th:only-of-type {\n",
              "        vertical-align: middle;\n",
              "    }\n",
              "\n",
              "    .dataframe tbody tr th {\n",
              "        vertical-align: top;\n",
              "    }\n",
              "\n",
              "    .dataframe thead th {\n",
              "        text-align: right;\n",
              "    }\n",
              "</style>\n",
              "<table border=\"1\" class=\"dataframe\">\n",
              "  <thead>\n",
              "    <tr style=\"text-align: right;\">\n",
              "      <th></th>\n",
              "      <th>title</th>\n",
              "      <th>release_year</th>\n",
              "      <th>score</th>\n",
              "      <th>number_of_votes</th>\n",
              "      <th>duration</th>\n",
              "      <th>main_genre</th>\n",
              "      <th>country</th>\n",
              "    </tr>\n",
              "  </thead>\n",
              "  <tbody>\n",
              "    <tr>\n",
              "      <th>387</th>\n",
              "      <td>The Bourne Ultimatum</td>\n",
              "      <td>2007.0</td>\n",
              "      <td>8.0</td>\n",
              "      <td>627009.0</td>\n",
              "      <td>115</td>\n",
              "      <td>thriller</td>\n",
              "      <td>DE</td>\n",
              "    </tr>\n",
              "    <tr>\n",
              "      <th>388</th>\n",
              "      <td>The Bourne Ultimatum</td>\n",
              "      <td>2007.0</td>\n",
              "      <td>8.0</td>\n",
              "      <td>627009.0</td>\n",
              "      <td>115</td>\n",
              "      <td>thriller</td>\n",
              "      <td>DE</td>\n",
              "    </tr>\n",
              "  </tbody>\n",
              "</table>\n",
              "</div>"
            ],
            "text/plain": [
              "                    title  release_year  score  number_of_votes  duration  \\\n",
              "387  The Bourne Ultimatum        2007.0    8.0         627009.0       115   \n",
              "388  The Bourne Ultimatum        2007.0    8.0         627009.0       115   \n",
              "\n",
              "    main_genre country  \n",
              "387   thriller      DE  \n",
              "388   thriller      DE  "
            ]
          },
          "execution_count": 117,
          "metadata": {},
          "output_type": "execute_result"
        }
      ],
      "source": [
        "df[df.duplicated()]"
      ]
    },
    {
      "cell_type": "code",
      "execution_count": 118,
      "metadata": {
        "id": "ntArgvChkK26"
      },
      "outputs": [],
      "source": [
        "df = df.drop_duplicates().reset_index(drop=True)"
      ]
    },
    {
      "cell_type": "markdown",
      "metadata": {
        "id": "VeHTMcOmkLSw"
      },
      "source": [
        "#### Проверка неявных дубликатов"
      ]
    },
    {
      "cell_type": "code",
      "execution_count": 119,
      "metadata": {
        "id": "-uOPKHlVlGo8"
      },
      "outputs": [
        {
          "name": "stdout",
          "output_type": "stream",
          "text": [
            "['documentary' 'scifi' 'drama' 'comedy' 'western' 'action' 'crime'\n",
            " 'thriller' 'war' 'fantasy' 'romance' 'horror' 'musical' 'animation'\n",
            " 'sports' 'COMEDY' 'dramaa']\n"
          ]
        }
      ],
      "source": [
        "print(df['main_genre'].unique())"
      ]
    },
    {
      "cell_type": "code",
      "execution_count": 120,
      "metadata": {
        "id": "89tMFEQ2k_M7"
      },
      "outputs": [],
      "source": [
        "df['main_genre'] = df['main_genre'].replace('dramaa', 'drama')\n",
        "df['main_genre'] = df['main_genre'].replace('COMEDY', 'comedy')"
      ]
    },
    {
      "cell_type": "markdown",
      "metadata": {
        "id": "GMcnDpOmlKhU"
      },
      "source": [
        "---\n",
        "\n",
        "**Явные дубликаты были удалены, индексация датафрейма обновлена. Неявные дубликаты названий жанров были корректно переименованы.**\n",
        "\n",
        "\n",
        " ---"
      ]
    },
    {
      "cell_type": "markdown",
      "metadata": {
        "id": "md9GhfYMlbi7"
      },
      "source": [
        "### 5. Провека типов данных"
      ]
    },
    {
      "cell_type": "code",
      "execution_count": 121,
      "metadata": {
        "id": "lXTroENaluCW"
      },
      "outputs": [
        {
          "name": "stdout",
          "output_type": "stream",
          "text": [
            "<class 'pandas.core.frame.DataFrame'>\n",
            "RangeIndex: 384 entries, 0 to 383\n",
            "Data columns (total 7 columns):\n",
            " #   Column           Non-Null Count  Dtype  \n",
            "---  ------           --------------  -----  \n",
            " 0   title            381 non-null    object \n",
            " 1   release_year     384 non-null    float64\n",
            " 2   score            384 non-null    float64\n",
            " 3   number_of_votes  384 non-null    float64\n",
            " 4   duration         384 non-null    int64  \n",
            " 5   main_genre       384 non-null    object \n",
            " 6   country          384 non-null    object \n",
            "dtypes: float64(3), int64(1), object(3)\n",
            "memory usage: 21.1+ KB\n"
          ]
        }
      ],
      "source": [
        "df.info()"
      ]
    },
    {
      "cell_type": "code",
      "execution_count": 122,
      "metadata": {
        "id": "WXhXgu29lop3"
      },
      "outputs": [
        {
          "name": "stdout",
          "output_type": "stream",
          "text": [
            "<class 'pandas.core.frame.DataFrame'>\n",
            "RangeIndex: 384 entries, 0 to 383\n",
            "Data columns (total 7 columns):\n",
            " #   Column           Non-Null Count  Dtype  \n",
            "---  ------           --------------  -----  \n",
            " 0   title            381 non-null    object \n",
            " 1   release_year     384 non-null    int64  \n",
            " 2   score            384 non-null    float64\n",
            " 3   number_of_votes  384 non-null    int64  \n",
            " 4   duration         384 non-null    int64  \n",
            " 5   main_genre       384 non-null    object \n",
            " 6   country          384 non-null    object \n",
            "dtypes: float64(1), int64(3), object(3)\n",
            "memory usage: 21.1+ KB\n"
          ]
        }
      ],
      "source": [
        "df['release_year'] = df['release_year'].astype('int')\n",
        "df['number_of_votes'] = df['number_of_votes'].astype('int')\n",
        "df.info()"
      ]
    },
    {
      "cell_type": "markdown",
      "metadata": {
        "id": "DPDBNN4dlx7W"
      },
      "source": [
        "---\n",
        "**Приводим поля `release_year` и `number_of_votes` к типу int, так как поля в действительности содержат целочисленные значения**\n",
        "\n",
        "\n",
        " ---"
      ]
    },
    {
      "cell_type": "markdown",
      "metadata": {
        "id": "lzr0SgqlnmHy"
      },
      "source": [
        "### 6. Группировка данных"
      ]
    },
    {
      "cell_type": "markdown",
      "metadata": {
        "id": "QG_dbwzfmZoS"
      },
      "source": [
        "#### Задание 1"
      ]
    },
    {
      "cell_type": "markdown",
      "metadata": {
        "id": "CyCKTB4DmciW"
      },
      "source": [
        "*`Группировка - год выхода и количество фильмов каждого жанра\n",
        "(main_genre).`*"
      ]
    },
    {
      "cell_type": "code",
      "execution_count": 138,
      "metadata": {
        "id": "tp8Bl1gumYlI"
      },
      "outputs": [
        {
          "data": {
            "text/plain": [
              "release_year  main_genre\n",
              "1954          romance       1\n",
              "1961          war           1\n",
              "1964          drama         1\n",
              "1966          western       1\n",
              "1967          drama         1\n",
              "                           ..\n",
              "2021          thriller      2\n",
              "2022          comedy        1\n",
              "              crime         1\n",
              "              drama         2\n",
              "              romance       1\n",
              "Name: title, Length: 165, dtype: int64"
            ]
          },
          "execution_count": 138,
          "metadata": {},
          "output_type": "execute_result"
        }
      ],
      "source": [
        "df.groupby(['release_year', 'main_genre'])['title'].count()"
      ]
    },
    {
      "cell_type": "markdown",
      "metadata": {},
      "source": [
        "`Группировка позволяет увидеть, какие жанры были популярны в каждый период времени.`"
      ]
    },
    {
      "cell_type": "markdown",
      "metadata": {
        "id": "quMr70SmnMXS"
      },
      "source": [
        "---\n",
        "\n",
        "**Обратите внимание, что на защите вы должны ориентироваться в синтаксисе. При необходимости нужно быть готовым изменить код по просьбе преподавателя. Например, вместо среднего значения подсчитать медиану и т.д.**\n",
        "\n",
        "\n",
        " ---"
      ]
    },
    {
      "cell_type": "markdown",
      "metadata": {
        "id": "j0isGCzEne7a"
      },
      "source": [
        "#### Задание 2"
      ]
    },
    {
      "cell_type": "markdown",
      "metadata": {
        "id": "kE2vLBWbne7a"
      },
      "source": [
        "*` Группировка - год выхода и количество фильмов каждого жанра\n",
        "(main_genre). Создать датафрейм. Переименовать столбец с количеством в\n",
        "“сountˮ. Отсортировать по убыванию столбца “countˮ.`*"
      ]
    },
    {
      "cell_type": "code",
      "execution_count": 137,
      "metadata": {
        "id": "ttn78Zaene7a"
      },
      "outputs": [
        {
          "data": {
            "text/html": [
              "<div>\n",
              "<style scoped>\n",
              "    .dataframe tbody tr th:only-of-type {\n",
              "        vertical-align: middle;\n",
              "    }\n",
              "\n",
              "    .dataframe tbody tr th {\n",
              "        vertical-align: top;\n",
              "    }\n",
              "\n",
              "    .dataframe thead th {\n",
              "        text-align: right;\n",
              "    }\n",
              "</style>\n",
              "<table border=\"1\" class=\"dataframe\">\n",
              "  <thead>\n",
              "    <tr style=\"text-align: right;\">\n",
              "      <th></th>\n",
              "      <th>release_year</th>\n",
              "      <th>main_genre</th>\n",
              "      <th>count</th>\n",
              "    </tr>\n",
              "  </thead>\n",
              "  <tbody>\n",
              "    <tr>\n",
              "      <th>140</th>\n",
              "      <td>2019</td>\n",
              "      <td>drama</td>\n",
              "      <td>13</td>\n",
              "    </tr>\n",
              "    <tr>\n",
              "      <th>122</th>\n",
              "      <td>2017</td>\n",
              "      <td>drama</td>\n",
              "      <td>13</td>\n",
              "    </tr>\n",
              "    <tr>\n",
              "      <th>103</th>\n",
              "      <td>2015</td>\n",
              "      <td>drama</td>\n",
              "      <td>9</td>\n",
              "    </tr>\n",
              "    <tr>\n",
              "      <th>148</th>\n",
              "      <td>2020</td>\n",
              "      <td>drama</td>\n",
              "      <td>9</td>\n",
              "    </tr>\n",
              "    <tr>\n",
              "      <th>156</th>\n",
              "      <td>2021</td>\n",
              "      <td>drama</td>\n",
              "      <td>9</td>\n",
              "    </tr>\n",
              "    <tr>\n",
              "      <th>...</th>\n",
              "      <td>...</td>\n",
              "      <td>...</td>\n",
              "      <td>...</td>\n",
              "    </tr>\n",
              "    <tr>\n",
              "      <th>158</th>\n",
              "      <td>2021</td>\n",
              "      <td>scifi</td>\n",
              "      <td>1</td>\n",
              "    </tr>\n",
              "    <tr>\n",
              "      <th>162</th>\n",
              "      <td>2022</td>\n",
              "      <td>crime</td>\n",
              "      <td>1</td>\n",
              "    </tr>\n",
              "    <tr>\n",
              "      <th>161</th>\n",
              "      <td>2022</td>\n",
              "      <td>comedy</td>\n",
              "      <td>1</td>\n",
              "    </tr>\n",
              "    <tr>\n",
              "      <th>164</th>\n",
              "      <td>2022</td>\n",
              "      <td>romance</td>\n",
              "      <td>1</td>\n",
              "    </tr>\n",
              "    <tr>\n",
              "      <th>104</th>\n",
              "      <td>2015</td>\n",
              "      <td>musical</td>\n",
              "      <td>0</td>\n",
              "    </tr>\n",
              "  </tbody>\n",
              "</table>\n",
              "<p>165 rows × 3 columns</p>\n",
              "</div>"
            ],
            "text/plain": [
              "     release_year main_genre  count\n",
              "140          2019      drama     13\n",
              "122          2017      drama     13\n",
              "103          2015      drama      9\n",
              "148          2020      drama      9\n",
              "156          2021      drama      9\n",
              "..            ...        ...    ...\n",
              "158          2021      scifi      1\n",
              "162          2022      crime      1\n",
              "161          2022     comedy      1\n",
              "164          2022    romance      1\n",
              "104          2015    musical      0\n",
              "\n",
              "[165 rows x 3 columns]"
            ]
          },
          "execution_count": 137,
          "metadata": {},
          "output_type": "execute_result"
        }
      ],
      "source": [
        "ff = df.groupby(['release_year', 'main_genre'])['title'].count().reset_index(name='count')\n",
        "ff.sort_values(by='count', ascending=False)"
      ]
    },
    {
      "cell_type": "markdown",
      "metadata": {
        "id": "HCyyeAu6ne7a"
      },
      "source": [
        "**`Из результата группировки можно увидеть, какой жанр был наиболее востребован в определённое время. Так, наибольшее число фильмов, снятых в последних двух десятилетиях, относится к жанру драма.`**"
      ]
    },
    {
      "cell_type": "markdown",
      "metadata": {
        "id": "NKLZ0m7Nne7b"
      },
      "source": [
        "---\n",
        "\n",
        "**Обратите внимание, что на защите вы должны ориентироваться в синтаксисе. При необходимости нужно быть готовым изменить код по просьбе преподавателя. Например, вместо среднего значения подсчитать медиану и т.д.**\n",
        "\n",
        "\n",
        " ---"
      ]
    },
    {
      "cell_type": "markdown",
      "metadata": {
        "id": "_3fHGp64nhUJ"
      },
      "source": [
        "#### Задание 3"
      ]
    },
    {
      "cell_type": "markdown",
      "metadata": {
        "id": "_Bc4ehyKnhUJ"
      },
      "source": [
        "*`Сводная таблица (pivot_table) - средний рейтинг (score) фильмов по\n",
        "жанрам. Отсортировать по убыванию рейтинга. Округлить до двух знаков.`*"
      ]
    },
    {
      "cell_type": "code",
      "execution_count": 146,
      "metadata": {
        "id": "siDovPvQnhUJ"
      },
      "outputs": [
        {
          "data": {
            "text/html": [
              "<div>\n",
              "<style scoped>\n",
              "    .dataframe tbody tr th:only-of-type {\n",
              "        vertical-align: middle;\n",
              "    }\n",
              "\n",
              "    .dataframe tbody tr th {\n",
              "        vertical-align: top;\n",
              "    }\n",
              "\n",
              "    .dataframe thead th {\n",
              "        text-align: right;\n",
              "    }\n",
              "</style>\n",
              "<table border=\"1\" class=\"dataframe\">\n",
              "  <thead>\n",
              "    <tr style=\"text-align: right;\">\n",
              "      <th></th>\n",
              "      <th>score</th>\n",
              "    </tr>\n",
              "    <tr>\n",
              "      <th>main_genre</th>\n",
              "      <th></th>\n",
              "    </tr>\n",
              "  </thead>\n",
              "  <tbody>\n",
              "    <tr>\n",
              "      <th>war</th>\n",
              "      <td>7.80</td>\n",
              "    </tr>\n",
              "    <tr>\n",
              "      <th>scifi</th>\n",
              "      <td>7.77</td>\n",
              "    </tr>\n",
              "    <tr>\n",
              "      <th>documentary</th>\n",
              "      <td>7.76</td>\n",
              "    </tr>\n",
              "    <tr>\n",
              "      <th>action</th>\n",
              "      <td>7.70</td>\n",
              "    </tr>\n",
              "    <tr>\n",
              "      <th>comedy</th>\n",
              "      <td>7.61</td>\n",
              "    </tr>\n",
              "    <tr>\n",
              "      <th>western</th>\n",
              "      <td>7.56</td>\n",
              "    </tr>\n",
              "    <tr>\n",
              "      <th>fantasy</th>\n",
              "      <td>7.48</td>\n",
              "    </tr>\n",
              "    <tr>\n",
              "      <th>drama</th>\n",
              "      <td>7.48</td>\n",
              "    </tr>\n",
              "    <tr>\n",
              "      <th>crime</th>\n",
              "      <td>7.47</td>\n",
              "    </tr>\n",
              "    <tr>\n",
              "      <th>thriller</th>\n",
              "      <td>7.47</td>\n",
              "    </tr>\n",
              "    <tr>\n",
              "      <th>romance</th>\n",
              "      <td>7.40</td>\n",
              "    </tr>\n",
              "    <tr>\n",
              "      <th>sports</th>\n",
              "      <td>7.40</td>\n",
              "    </tr>\n",
              "    <tr>\n",
              "      <th>horror</th>\n",
              "      <td>7.35</td>\n",
              "    </tr>\n",
              "    <tr>\n",
              "      <th>animation</th>\n",
              "      <td>7.20</td>\n",
              "    </tr>\n",
              "    <tr>\n",
              "      <th>musical</th>\n",
              "      <td>7.10</td>\n",
              "    </tr>\n",
              "  </tbody>\n",
              "</table>\n",
              "</div>"
            ],
            "text/plain": [
              "             score\n",
              "main_genre        \n",
              "war           7.80\n",
              "scifi         7.77\n",
              "documentary   7.76\n",
              "action        7.70\n",
              "comedy        7.61\n",
              "western       7.56\n",
              "fantasy       7.48\n",
              "drama         7.48\n",
              "crime         7.47\n",
              "thriller      7.47\n",
              "romance       7.40\n",
              "sports        7.40\n",
              "horror        7.35\n",
              "animation     7.20\n",
              "musical       7.10"
            ]
          },
          "execution_count": 146,
          "metadata": {},
          "output_type": "execute_result"
        }
      ],
      "source": [
        "df.pivot_table(index='main_genre', values='score', aggfunc='mean').round(2).sort_values(by='score', ascending=False)"
      ]
    },
    {
      "cell_type": "markdown",
      "metadata": {
        "id": "1-vw8iyUnhUK"
      },
      "source": [
        "**`Из результата данной сводной таблицы можно увидеть наиболее высоко оценённые жанры: военные, научная фантастика, документальные.`**"
      ]
    },
    {
      "cell_type": "markdown",
      "metadata": {
        "id": "wKFm0zDenhUK"
      },
      "source": [
        "---\n",
        "\n",
        "**Обратите внимание, что на защите вы должны ориентироваться в синтаксисе. При необходимости нужно быть готовым изменить код по просьбе преподавателя. Например, вместо среднего значения подсчитать медиану и т.д.**\n",
        "\n",
        "\n",
        " ---"
      ]
    },
    {
      "cell_type": "markdown",
      "metadata": {
        "id": "FOlw74xCniNo"
      },
      "source": [
        "#### Задание 4"
      ]
    },
    {
      "cell_type": "markdown",
      "metadata": {
        "id": "4tvYwT25niNq"
      },
      "source": [
        "*` Сводная таблица (pivot_table) - средний рейтинг (score) фильмов по\n",
        "жанрам - строки и годам - столбцы. Отсортировать по возрастанию main_genre.`*"
      ]
    },
    {
      "cell_type": "code",
      "execution_count": 149,
      "metadata": {
        "id": "TfJ719g6niNq"
      },
      "outputs": [
        {
          "data": {
            "text/html": [
              "<div>\n",
              "<style scoped>\n",
              "    .dataframe tbody tr th:only-of-type {\n",
              "        vertical-align: middle;\n",
              "    }\n",
              "\n",
              "    .dataframe tbody tr th {\n",
              "        vertical-align: top;\n",
              "    }\n",
              "\n",
              "    .dataframe thead th {\n",
              "        text-align: right;\n",
              "    }\n",
              "</style>\n",
              "<table border=\"1\" class=\"dataframe\">\n",
              "  <thead>\n",
              "    <tr style=\"text-align: right;\">\n",
              "      <th>release_year</th>\n",
              "      <th>1954</th>\n",
              "      <th>1961</th>\n",
              "      <th>1964</th>\n",
              "      <th>1966</th>\n",
              "      <th>1967</th>\n",
              "      <th>1971</th>\n",
              "      <th>1973</th>\n",
              "      <th>1975</th>\n",
              "      <th>1976</th>\n",
              "      <th>1979</th>\n",
              "      <th>...</th>\n",
              "      <th>2013</th>\n",
              "      <th>2014</th>\n",
              "      <th>2015</th>\n",
              "      <th>2016</th>\n",
              "      <th>2017</th>\n",
              "      <th>2018</th>\n",
              "      <th>2019</th>\n",
              "      <th>2020</th>\n",
              "      <th>2021</th>\n",
              "      <th>2022</th>\n",
              "    </tr>\n",
              "    <tr>\n",
              "      <th>main_genre</th>\n",
              "      <th></th>\n",
              "      <th></th>\n",
              "      <th></th>\n",
              "      <th></th>\n",
              "      <th></th>\n",
              "      <th></th>\n",
              "      <th></th>\n",
              "      <th></th>\n",
              "      <th></th>\n",
              "      <th></th>\n",
              "      <th></th>\n",
              "      <th></th>\n",
              "      <th></th>\n",
              "      <th></th>\n",
              "      <th></th>\n",
              "      <th></th>\n",
              "      <th></th>\n",
              "      <th></th>\n",
              "      <th></th>\n",
              "      <th></th>\n",
              "      <th></th>\n",
              "    </tr>\n",
              "  </thead>\n",
              "  <tbody>\n",
              "    <tr>\n",
              "      <th>action</th>\n",
              "      <td>NaN</td>\n",
              "      <td>NaN</td>\n",
              "      <td>NaN</td>\n",
              "      <td>NaN</td>\n",
              "      <td>NaN</td>\n",
              "      <td>NaN</td>\n",
              "      <td>NaN</td>\n",
              "      <td>NaN</td>\n",
              "      <td>NaN</td>\n",
              "      <td>NaN</td>\n",
              "      <td>...</td>\n",
              "      <td>NaN</td>\n",
              "      <td>NaN</td>\n",
              "      <td>7.80</td>\n",
              "      <td>8.40</td>\n",
              "      <td>NaN</td>\n",
              "      <td>NaN</td>\n",
              "      <td>NaN</td>\n",
              "      <td>NaN</td>\n",
              "      <td>8.10</td>\n",
              "      <td>NaN</td>\n",
              "    </tr>\n",
              "    <tr>\n",
              "      <th>animation</th>\n",
              "      <td>NaN</td>\n",
              "      <td>NaN</td>\n",
              "      <td>NaN</td>\n",
              "      <td>NaN</td>\n",
              "      <td>NaN</td>\n",
              "      <td>NaN</td>\n",
              "      <td>NaN</td>\n",
              "      <td>NaN</td>\n",
              "      <td>NaN</td>\n",
              "      <td>NaN</td>\n",
              "      <td>...</td>\n",
              "      <td>NaN</td>\n",
              "      <td>NaN</td>\n",
              "      <td>NaN</td>\n",
              "      <td>7.10</td>\n",
              "      <td>NaN</td>\n",
              "      <td>NaN</td>\n",
              "      <td>NaN</td>\n",
              "      <td>NaN</td>\n",
              "      <td>7.60</td>\n",
              "      <td>NaN</td>\n",
              "    </tr>\n",
              "    <tr>\n",
              "      <th>comedy</th>\n",
              "      <td>NaN</td>\n",
              "      <td>NaN</td>\n",
              "      <td>NaN</td>\n",
              "      <td>NaN</td>\n",
              "      <td>NaN</td>\n",
              "      <td>NaN</td>\n",
              "      <td>NaN</td>\n",
              "      <td>8.2</td>\n",
              "      <td>NaN</td>\n",
              "      <td>7.8</td>\n",
              "      <td>...</td>\n",
              "      <td>7.60</td>\n",
              "      <td>7.38</td>\n",
              "      <td>7.20</td>\n",
              "      <td>7.62</td>\n",
              "      <td>7.50</td>\n",
              "      <td>7.97</td>\n",
              "      <td>7.75</td>\n",
              "      <td>6.90</td>\n",
              "      <td>7.75</td>\n",
              "      <td>7.3</td>\n",
              "    </tr>\n",
              "    <tr>\n",
              "      <th>crime</th>\n",
              "      <td>NaN</td>\n",
              "      <td>NaN</td>\n",
              "      <td>NaN</td>\n",
              "      <td>NaN</td>\n",
              "      <td>NaN</td>\n",
              "      <td>NaN</td>\n",
              "      <td>NaN</td>\n",
              "      <td>NaN</td>\n",
              "      <td>8.3</td>\n",
              "      <td>NaN</td>\n",
              "      <td>...</td>\n",
              "      <td>NaN</td>\n",
              "      <td>7.80</td>\n",
              "      <td>NaN</td>\n",
              "      <td>7.27</td>\n",
              "      <td>7.20</td>\n",
              "      <td>NaN</td>\n",
              "      <td>8.20</td>\n",
              "      <td>7.40</td>\n",
              "      <td>7.15</td>\n",
              "      <td>7.2</td>\n",
              "    </tr>\n",
              "    <tr>\n",
              "      <th>documentary</th>\n",
              "      <td>NaN</td>\n",
              "      <td>NaN</td>\n",
              "      <td>NaN</td>\n",
              "      <td>NaN</td>\n",
              "      <td>NaN</td>\n",
              "      <td>NaN</td>\n",
              "      <td>NaN</td>\n",
              "      <td>NaN</td>\n",
              "      <td>NaN</td>\n",
              "      <td>NaN</td>\n",
              "      <td>...</td>\n",
              "      <td>NaN</td>\n",
              "      <td>8.05</td>\n",
              "      <td>8.30</td>\n",
              "      <td>8.20</td>\n",
              "      <td>7.73</td>\n",
              "      <td>7.60</td>\n",
              "      <td>7.30</td>\n",
              "      <td>8.02</td>\n",
              "      <td>7.95</td>\n",
              "      <td>NaN</td>\n",
              "    </tr>\n",
              "    <tr>\n",
              "      <th>drama</th>\n",
              "      <td>NaN</td>\n",
              "      <td>NaN</td>\n",
              "      <td>7.8</td>\n",
              "      <td>NaN</td>\n",
              "      <td>7.7</td>\n",
              "      <td>NaN</td>\n",
              "      <td>NaN</td>\n",
              "      <td>NaN</td>\n",
              "      <td>NaN</td>\n",
              "      <td>NaN</td>\n",
              "      <td>...</td>\n",
              "      <td>7.64</td>\n",
              "      <td>7.54</td>\n",
              "      <td>7.28</td>\n",
              "      <td>7.18</td>\n",
              "      <td>7.27</td>\n",
              "      <td>7.26</td>\n",
              "      <td>7.47</td>\n",
              "      <td>7.21</td>\n",
              "      <td>7.21</td>\n",
              "      <td>7.5</td>\n",
              "    </tr>\n",
              "    <tr>\n",
              "      <th>fantasy</th>\n",
              "      <td>NaN</td>\n",
              "      <td>NaN</td>\n",
              "      <td>NaN</td>\n",
              "      <td>NaN</td>\n",
              "      <td>NaN</td>\n",
              "      <td>NaN</td>\n",
              "      <td>NaN</td>\n",
              "      <td>NaN</td>\n",
              "      <td>NaN</td>\n",
              "      <td>NaN</td>\n",
              "      <td>...</td>\n",
              "      <td>NaN</td>\n",
              "      <td>7.80</td>\n",
              "      <td>NaN</td>\n",
              "      <td>7.50</td>\n",
              "      <td>7.85</td>\n",
              "      <td>7.10</td>\n",
              "      <td>7.50</td>\n",
              "      <td>NaN</td>\n",
              "      <td>7.20</td>\n",
              "      <td>NaN</td>\n",
              "    </tr>\n",
              "    <tr>\n",
              "      <th>horror</th>\n",
              "      <td>NaN</td>\n",
              "      <td>NaN</td>\n",
              "      <td>NaN</td>\n",
              "      <td>NaN</td>\n",
              "      <td>NaN</td>\n",
              "      <td>NaN</td>\n",
              "      <td>8.1</td>\n",
              "      <td>NaN</td>\n",
              "      <td>NaN</td>\n",
              "      <td>NaN</td>\n",
              "      <td>...</td>\n",
              "      <td>NaN</td>\n",
              "      <td>NaN</td>\n",
              "      <td>NaN</td>\n",
              "      <td>7.00</td>\n",
              "      <td>NaN</td>\n",
              "      <td>7.60</td>\n",
              "      <td>7.00</td>\n",
              "      <td>NaN</td>\n",
              "      <td>NaN</td>\n",
              "      <td>NaN</td>\n",
              "    </tr>\n",
              "    <tr>\n",
              "      <th>musical</th>\n",
              "      <td>NaN</td>\n",
              "      <td>NaN</td>\n",
              "      <td>NaN</td>\n",
              "      <td>NaN</td>\n",
              "      <td>NaN</td>\n",
              "      <td>NaN</td>\n",
              "      <td>NaN</td>\n",
              "      <td>NaN</td>\n",
              "      <td>NaN</td>\n",
              "      <td>NaN</td>\n",
              "      <td>...</td>\n",
              "      <td>7.10</td>\n",
              "      <td>NaN</td>\n",
              "      <td>7.40</td>\n",
              "      <td>NaN</td>\n",
              "      <td>7.00</td>\n",
              "      <td>NaN</td>\n",
              "      <td>NaN</td>\n",
              "      <td>6.90</td>\n",
              "      <td>NaN</td>\n",
              "      <td>NaN</td>\n",
              "    </tr>\n",
              "    <tr>\n",
              "      <th>romance</th>\n",
              "      <td>7.5</td>\n",
              "      <td>NaN</td>\n",
              "      <td>NaN</td>\n",
              "      <td>NaN</td>\n",
              "      <td>NaN</td>\n",
              "      <td>NaN</td>\n",
              "      <td>NaN</td>\n",
              "      <td>NaN</td>\n",
              "      <td>NaN</td>\n",
              "      <td>NaN</td>\n",
              "      <td>...</td>\n",
              "      <td>6.90</td>\n",
              "      <td>NaN</td>\n",
              "      <td>NaN</td>\n",
              "      <td>7.70</td>\n",
              "      <td>7.45</td>\n",
              "      <td>7.20</td>\n",
              "      <td>7.20</td>\n",
              "      <td>NaN</td>\n",
              "      <td>NaN</td>\n",
              "      <td>6.9</td>\n",
              "    </tr>\n",
              "    <tr>\n",
              "      <th>scifi</th>\n",
              "      <td>NaN</td>\n",
              "      <td>NaN</td>\n",
              "      <td>NaN</td>\n",
              "      <td>NaN</td>\n",
              "      <td>NaN</td>\n",
              "      <td>NaN</td>\n",
              "      <td>NaN</td>\n",
              "      <td>NaN</td>\n",
              "      <td>NaN</td>\n",
              "      <td>NaN</td>\n",
              "      <td>...</td>\n",
              "      <td>NaN</td>\n",
              "      <td>NaN</td>\n",
              "      <td>NaN</td>\n",
              "      <td>NaN</td>\n",
              "      <td>8.00</td>\n",
              "      <td>7.10</td>\n",
              "      <td>NaN</td>\n",
              "      <td>NaN</td>\n",
              "      <td>7.20</td>\n",
              "      <td>NaN</td>\n",
              "    </tr>\n",
              "    <tr>\n",
              "      <th>sports</th>\n",
              "      <td>NaN</td>\n",
              "      <td>NaN</td>\n",
              "      <td>NaN</td>\n",
              "      <td>NaN</td>\n",
              "      <td>NaN</td>\n",
              "      <td>NaN</td>\n",
              "      <td>NaN</td>\n",
              "      <td>NaN</td>\n",
              "      <td>NaN</td>\n",
              "      <td>NaN</td>\n",
              "      <td>...</td>\n",
              "      <td>NaN</td>\n",
              "      <td>NaN</td>\n",
              "      <td>NaN</td>\n",
              "      <td>NaN</td>\n",
              "      <td>NaN</td>\n",
              "      <td>NaN</td>\n",
              "      <td>NaN</td>\n",
              "      <td>NaN</td>\n",
              "      <td>7.40</td>\n",
              "      <td>NaN</td>\n",
              "    </tr>\n",
              "    <tr>\n",
              "      <th>thriller</th>\n",
              "      <td>NaN</td>\n",
              "      <td>NaN</td>\n",
              "      <td>NaN</td>\n",
              "      <td>NaN</td>\n",
              "      <td>NaN</td>\n",
              "      <td>7.7</td>\n",
              "      <td>NaN</td>\n",
              "      <td>NaN</td>\n",
              "      <td>NaN</td>\n",
              "      <td>NaN</td>\n",
              "      <td>...</td>\n",
              "      <td>7.68</td>\n",
              "      <td>7.75</td>\n",
              "      <td>7.73</td>\n",
              "      <td>7.28</td>\n",
              "      <td>7.54</td>\n",
              "      <td>7.36</td>\n",
              "      <td>7.42</td>\n",
              "      <td>7.20</td>\n",
              "      <td>7.55</td>\n",
              "      <td>NaN</td>\n",
              "    </tr>\n",
              "    <tr>\n",
              "      <th>war</th>\n",
              "      <td>NaN</td>\n",
              "      <td>7.5</td>\n",
              "      <td>NaN</td>\n",
              "      <td>NaN</td>\n",
              "      <td>NaN</td>\n",
              "      <td>NaN</td>\n",
              "      <td>NaN</td>\n",
              "      <td>NaN</td>\n",
              "      <td>NaN</td>\n",
              "      <td>NaN</td>\n",
              "      <td>...</td>\n",
              "      <td>NaN</td>\n",
              "      <td>8.20</td>\n",
              "      <td>7.70</td>\n",
              "      <td>NaN</td>\n",
              "      <td>NaN</td>\n",
              "      <td>NaN</td>\n",
              "      <td>NaN</td>\n",
              "      <td>NaN</td>\n",
              "      <td>NaN</td>\n",
              "      <td>NaN</td>\n",
              "    </tr>\n",
              "    <tr>\n",
              "      <th>western</th>\n",
              "      <td>NaN</td>\n",
              "      <td>NaN</td>\n",
              "      <td>NaN</td>\n",
              "      <td>7.3</td>\n",
              "      <td>NaN</td>\n",
              "      <td>NaN</td>\n",
              "      <td>NaN</td>\n",
              "      <td>NaN</td>\n",
              "      <td>NaN</td>\n",
              "      <td>NaN</td>\n",
              "      <td>...</td>\n",
              "      <td>NaN</td>\n",
              "      <td>NaN</td>\n",
              "      <td>7.80</td>\n",
              "      <td>7.60</td>\n",
              "      <td>NaN</td>\n",
              "      <td>7.30</td>\n",
              "      <td>NaN</td>\n",
              "      <td>NaN</td>\n",
              "      <td>NaN</td>\n",
              "      <td>NaN</td>\n",
              "    </tr>\n",
              "  </tbody>\n",
              "</table>\n",
              "<p>15 rows × 49 columns</p>\n",
              "</div>"
            ],
            "text/plain": [
              "release_year  1954  1961  1964  1966  1967  1971  1973  1975  1976  1979  ...  \\\n",
              "main_genre                                                                ...   \n",
              "action         NaN   NaN   NaN   NaN   NaN   NaN   NaN   NaN   NaN   NaN  ...   \n",
              "animation      NaN   NaN   NaN   NaN   NaN   NaN   NaN   NaN   NaN   NaN  ...   \n",
              "comedy         NaN   NaN   NaN   NaN   NaN   NaN   NaN   8.2   NaN   7.8  ...   \n",
              "crime          NaN   NaN   NaN   NaN   NaN   NaN   NaN   NaN   8.3   NaN  ...   \n",
              "documentary    NaN   NaN   NaN   NaN   NaN   NaN   NaN   NaN   NaN   NaN  ...   \n",
              "drama          NaN   NaN   7.8   NaN   7.7   NaN   NaN   NaN   NaN   NaN  ...   \n",
              "fantasy        NaN   NaN   NaN   NaN   NaN   NaN   NaN   NaN   NaN   NaN  ...   \n",
              "horror         NaN   NaN   NaN   NaN   NaN   NaN   8.1   NaN   NaN   NaN  ...   \n",
              "musical        NaN   NaN   NaN   NaN   NaN   NaN   NaN   NaN   NaN   NaN  ...   \n",
              "romance        7.5   NaN   NaN   NaN   NaN   NaN   NaN   NaN   NaN   NaN  ...   \n",
              "scifi          NaN   NaN   NaN   NaN   NaN   NaN   NaN   NaN   NaN   NaN  ...   \n",
              "sports         NaN   NaN   NaN   NaN   NaN   NaN   NaN   NaN   NaN   NaN  ...   \n",
              "thriller       NaN   NaN   NaN   NaN   NaN   7.7   NaN   NaN   NaN   NaN  ...   \n",
              "war            NaN   7.5   NaN   NaN   NaN   NaN   NaN   NaN   NaN   NaN  ...   \n",
              "western        NaN   NaN   NaN   7.3   NaN   NaN   NaN   NaN   NaN   NaN  ...   \n",
              "\n",
              "release_year  2013  2014  2015  2016  2017  2018  2019  2020  2021  2022  \n",
              "main_genre                                                                \n",
              "action         NaN   NaN  7.80  8.40   NaN   NaN   NaN   NaN  8.10   NaN  \n",
              "animation      NaN   NaN   NaN  7.10   NaN   NaN   NaN   NaN  7.60   NaN  \n",
              "comedy        7.60  7.38  7.20  7.62  7.50  7.97  7.75  6.90  7.75   7.3  \n",
              "crime          NaN  7.80   NaN  7.27  7.20   NaN  8.20  7.40  7.15   7.2  \n",
              "documentary    NaN  8.05  8.30  8.20  7.73  7.60  7.30  8.02  7.95   NaN  \n",
              "drama         7.64  7.54  7.28  7.18  7.27  7.26  7.47  7.21  7.21   7.5  \n",
              "fantasy        NaN  7.80   NaN  7.50  7.85  7.10  7.50   NaN  7.20   NaN  \n",
              "horror         NaN   NaN   NaN  7.00   NaN  7.60  7.00   NaN   NaN   NaN  \n",
              "musical       7.10   NaN  7.40   NaN  7.00   NaN   NaN  6.90   NaN   NaN  \n",
              "romance       6.90   NaN   NaN  7.70  7.45  7.20  7.20   NaN   NaN   6.9  \n",
              "scifi          NaN   NaN   NaN   NaN  8.00  7.10   NaN   NaN  7.20   NaN  \n",
              "sports         NaN   NaN   NaN   NaN   NaN   NaN   NaN   NaN  7.40   NaN  \n",
              "thriller      7.68  7.75  7.73  7.28  7.54  7.36  7.42  7.20  7.55   NaN  \n",
              "war            NaN  8.20  7.70   NaN   NaN   NaN   NaN   NaN   NaN   NaN  \n",
              "western        NaN   NaN  7.80  7.60   NaN  7.30   NaN   NaN   NaN   NaN  \n",
              "\n",
              "[15 rows x 49 columns]"
            ]
          },
          "execution_count": 149,
          "metadata": {},
          "output_type": "execute_result"
        }
      ],
      "source": [
        "df.pivot_table(index='main_genre', columns='release_year', values='score', aggfunc='mean').round(2).sort_values(by='main_genre', ascending=True)"
      ]
    },
    {
      "cell_type": "markdown",
      "metadata": {
        "id": "yqJqvk5qniNr"
      },
      "source": [
        "**`Из результата выполнения данного кода можно увидеть, фильмы какого жанра высоко или низко оценивались в каждый год.`**"
      ]
    },
    {
      "cell_type": "markdown",
      "metadata": {
        "id": "tIkuqJKUniNs"
      },
      "source": [
        "---\n",
        "\n",
        "**Обратите внимание, что на защите вы должны ориентироваться в синтаксисе. При необходимости нужно быть готовым изменить код по просьбе преподавателя. Например, вместо среднего значения подсчитать медиану и т.д.**\n",
        "\n",
        "\n",
        " ---"
      ]
    },
    {
      "cell_type": "markdown",
      "metadata": {
        "id": "TpnXb6gip3S8"
      },
      "source": [
        "### Вывод"
      ]
    },
    {
      "cell_type": "markdown",
      "metadata": {
        "id": "nqLa096jM1Z8"
      },
      "source": [
        "\n",
        "***\n",
        "В ходе выполнения лабораторной работы были получены навыки предварительной обработки данных. Устранены проблемы в этих данных.\n",
        "\n",
        "Был проанализирован набор данных `movies.csv`, содержащий информацию о фильмах, их оценках, жанре, дате и стране производства. В процессе предобработки были произведены проверка и\n",
        "устранение пропусков, выявлены явные и неявные дубликаты, которые также были устранены. Были проверены типы данных, некоторые данные были приведены в соответствующим типам.\n",
        "\n",
        "Группировка - год выхода и количество фильмов каждого жанра позволила увидеть популярность конкретных жанров в каждый период времени.\n",
        "\n",
        "Сводная таблица со средним рейтингом фильмов по жанрам позволила определить, фильмы каких жанров наиболее высоко оценены. \n",
        "\n",
        "Наконец, сводная таблица со средним рейтингом по жанрам и годам позволила увидеть, фильмы какого жанра высоко или низко оценивались в каждый год.\n",
        "***\n",
        "\n",
        "Вывод должен описывать результаты исследования: какой набор данных вы анализировали (предметная область), какие методы предобработки применили, какие выводы из группировок и сводных таблиц можно сделать (они могут повторять выводы выше) и т.п. Объём вывода, как правило не более 0.5-0.75 страницы А4, всё таки вывод должен быть конкретным (без теории и “воды”).\n"
      ]
    },
    {
      "cell_type": "markdown",
      "metadata": {
        "id": "Sn3y7og_vjGG"
      },
      "source": [
        "### Дополнительное задание"
      ]
    },
    {
      "cell_type": "markdown",
      "metadata": {
        "id": "rR6WgHXYvlqD"
      },
      "source": [
        "**`Подробная формулировка задания`**"
      ]
    },
    {
      "cell_type": "code",
      "execution_count": 127,
      "metadata": {
        "id": "wG5TGQpevlBq"
      },
      "outputs": [],
      "source": [
        "# код выполнения задания"
      ]
    },
    {
      "cell_type": "markdown",
      "metadata": {
        "id": "y-qpTuhTvon3"
      },
      "source": [
        "***`Подробный вывод по заданию, описание полученных результатов`***"
      ]
    }
  ],
  "metadata": {
    "colab": {
      "provenance": []
    },
    "kernelspec": {
      "display_name": "dsfs",
      "language": "python",
      "name": "python3"
    },
    "language_info": {
      "codemirror_mode": {
        "name": "ipython",
        "version": 3
      },
      "file_extension": ".py",
      "mimetype": "text/x-python",
      "name": "python",
      "nbconvert_exporter": "python",
      "pygments_lexer": "ipython3",
      "version": "3.13.5"
    }
  },
  "nbformat": 4,
  "nbformat_minor": 0
}
